{
 "cells": [
  {
   "cell_type": "code",
   "execution_count": 19,
   "id": "3cd0c31e",
   "metadata": {},
   "outputs": [],
   "source": [
    "import csv\n",
    "import xml.etree.ElementTree as ET\n",
    "import os\n",
    "from collections import defaultdict"
   ]
  },
  {
   "cell_type": "code",
   "execution_count": 20,
   "id": "4b96869c",
   "metadata": {},
   "outputs": [],
   "source": [
    "# Dataset paths\n",
    "DATASET_ROOT = 'msr2013-bug_dataset-master/data'\n",
    "MOZILLA_PATH = os.path.join(DATASET_ROOT, 'mozilla')\n",
    "ECLIPSE_PATH = os.path.join(DATASET_ROOT, 'eclipse')"
   ]
  },
  {
   "cell_type": "code",
   "execution_count": 21,
   "id": "36dca0c3",
   "metadata": {},
   "outputs": [],
   "source": [
    "# File paths \n",
    "ASSIGNED_TO_FILE = 'assigned_to.xml'\n",
    "BUG_STATUS_FILE = 'bug_status.xml'\n",
    "SHORT_DESC_FILE = 'short_desc.xml'\n",
    "SEVERITY_FILE = 'severity.xml'\n",
    "PRIORITY_FILE = 'priority.xml'\n",
    "OUTPUT_CSV = 'bug_reports_anonymized_v1.csv'"
   ]
  },
  {
   "cell_type": "code",
   "execution_count": 22,
   "id": "014a33ea",
   "metadata": {},
   "outputs": [],
   "source": [
    "# Drop rows that has values other than p1,p2,p3,p4 or p5 in priority column\n",
    "VALID_PRIORITIES = ['P1', 'P2', 'P3', 'P4', 'P5']"
   ]
  },
  {
   "cell_type": "code",
   "execution_count": 23,
   "id": "fdd6daf1",
   "metadata": {},
   "outputs": [],
   "source": [
    "# Helper function to parse XML and extract the latest update for each report\n",
    "def parse_latest_updates(file_path, tag, id_attr, value_tag):\n",
    "    try:\n",
    "        tree = ET.parse(file_path)\n",
    "        root = tree.getroot()\n",
    "        result = {}\n",
    "\n",
    "        for report in root.findall('report'):\n",
    "            report_id = report.get(id_attr)\n",
    "            latest_update = None\n",
    "            for update in report.findall('update'):\n",
    "                when = int(update.find('when').text)\n",
    "                what = update.find(value_tag).text\n",
    "                if not latest_update or when > latest_update[0]:\n",
    "                    latest_update = (when, what)\n",
    "\n",
    "            if latest_update:\n",
    "                result[report_id] = latest_update[1]\n",
    "\n",
    "        return result\n",
    "    except Exception as e:\n",
    "        print(f\"Error parsing {file_path}: {str(e)}\")\n",
    "        return {}"
   ]
  },
  {
   "cell_type": "code",
   "execution_count": 24,
   "id": "d2b358e2",
   "metadata": {},
   "outputs": [],
   "source": [
    "# Parse assigned_to.xml\n",
    "def parse_assigned_to(file_path):\n",
    "    return parse_latest_updates(file_path, 'report', 'id', 'what')"
   ]
  },
  {
   "cell_type": "code",
   "execution_count": 25,
   "id": "9e41a04a",
   "metadata": {},
   "outputs": [],
   "source": [
    "# Parse bug_status.xml (only RESOLVED bugs)\n",
    "def parse_resolved_bugs(file_path):\n",
    "    try:\n",
    "        tree = ET.parse(file_path)\n",
    "        root = tree.getroot()\n",
    "        resolved_bugs = {}\n",
    "\n",
    "        for report in root.findall('report'):\n",
    "            report_id = report.get('id')\n",
    "            resolved = False\n",
    "            for update in report.findall('update'):\n",
    "                what = update.find('what').text\n",
    "                if what == 'RESOLVED':\n",
    "                    resolved = True\n",
    "\n",
    "            if resolved:\n",
    "                resolved_bugs[report_id] = True\n",
    "\n",
    "        return resolved_bugs\n",
    "    except Exception as e:\n",
    "        print(f\"Error parsing {file_path}: {str(e)}\")\n",
    "        return {}"
   ]
  },
  {
   "cell_type": "code",
   "execution_count": 26,
   "id": "382b617d",
   "metadata": {},
   "outputs": [],
   "source": [
    "# Parse short_desc.xml\n",
    "def parse_short_desc(file_path):\n",
    "    return parse_latest_updates(file_path, 'report', 'id', 'what')\n",
    "\n",
    "# Parse severity.xml\n",
    "def parse_severity(file_path):\n",
    "    return parse_latest_updates(file_path, 'report', 'id', 'what')\n",
    "\n",
    "# Parse priority.xml\n",
    "def parse_priority(file_path):\n",
    "    return parse_latest_updates(file_path, 'report', 'id', 'what')"
   ]
  },
  {
   "cell_type": "code",
   "execution_count": 27,
   "id": "5160c793",
   "metadata": {},
   "outputs": [],
   "source": [
    "# Developer anonymization\n",
    "developer_mapping = {}\n",
    "next_developer_id = 1\n",
    "\n",
    "def get_developer_id(email):\n",
    "    global next_developer_id\n",
    "    if email not in developer_mapping:\n",
    "        developer_mapping[email] = f\"developer_{next_developer_id:03d}\"\n",
    "        next_developer_id += 1\n",
    "    return developer_mapping[email]"
   ]
  },
  {
   "cell_type": "code",
   "execution_count": 28,
   "id": "de83e71b",
   "metadata": {},
   "outputs": [],
   "source": [
    "def process_project_folder(project_folder):\n",
    "    print(f\"Processing project folder: {project_folder}\")\n",
    "    \n",
    "    # Initialize dictionaries to store data from all XML files in this project\n",
    "    assigned_to = {}\n",
    "    resolved_bugs = {}\n",
    "    short_desc = {}\n",
    "    severity = {}\n",
    "    priority = {}\n",
    "    \n",
    "    # Process each XML file in the folder\n",
    "    for root, dirs, files in os.walk(project_folder):\n",
    "        for file in files:\n",
    "            file_path = os.path.join(root, file)\n",
    "            if file == ASSIGNED_TO_FILE:\n",
    "                assigned_to.update(parse_assigned_to(file_path))\n",
    "            elif file == BUG_STATUS_FILE:\n",
    "                resolved_bugs.update(parse_resolved_bugs(file_path))\n",
    "            elif file == SHORT_DESC_FILE:\n",
    "                short_desc.update(parse_short_desc(file_path))\n",
    "            elif file == SEVERITY_FILE:\n",
    "                severity.update(parse_severity(file_path))\n",
    "            elif file == PRIORITY_FILE:\n",
    "                priority.update(parse_priority(file_path))\n",
    "    \n",
    "    # Filter only resolved bugs and gather required data\n",
    "    rows = []\n",
    "    for bug_id in resolved_bugs.keys():\n",
    "        assigned_to_value = assigned_to.get(bug_id)\n",
    "        severity_value = severity.get(bug_id)\n",
    "        priority_value = priority.get(bug_id)\n",
    "        \n",
    "        # Skip if required fields are missing\n",
    "        if (not assigned_to_value or not severity_value or not priority_value):\n",
    "            #print(f\"Skipping bug ID {bug_id} due to missing 'Assigned To' or 'Severity' or 'Priority'.\")\n",
    "            continue\n",
    "\n",
    "        # Anonymize developer email\n",
    "        developer_id = get_developer_id(assigned_to_value)\n",
    "            \n",
    "        row = {\n",
    "            'bug_id': bug_id,\n",
    "            'description': short_desc.get(bug_id, 'N/A'),\n",
    "            'developer': developer_id,\n",
    "            'severity': severity.get(bug_id, 'N/A'),\n",
    "            'priority': priority.get(bug_id, 'N/A'),\n",
    "            'project': os.path.basename(project_folder)\n",
    "        }\n",
    "        rows.append(row)\n",
    "    \n",
    "    return rows"
   ]
  },
  {
   "cell_type": "code",
   "execution_count": 29,
   "id": "fb9df7ae",
   "metadata": {},
   "outputs": [
    {
     "name": "stdout",
     "output_type": "stream",
     "text": [
      "Processing project folder: msr2013-bug_dataset-master/data/mozilla/Firefox\n",
      "Processing project folder: msr2013-bug_dataset-master/data/mozilla/Core\n",
      "Processing project folder: msr2013-bug_dataset-master/data/mozilla/Bugzilla\n",
      "Processing project folder: msr2013-bug_dataset-master/data/mozilla/Thunderbird\n",
      "Processing project folder: msr2013-bug_dataset-master/data/eclipse/Platform\n",
      "Processing project folder: msr2013-bug_dataset-master/data/eclipse/CDT\n",
      "Processing project folder: msr2013-bug_dataset-master/data/eclipse/JDT\n",
      "Processing project folder: msr2013-bug_dataset-master/data/eclipse/PDE\n",
      "CSV file generated: bug_reports_anonymized_v1.csv\n",
      "Total bug reports processed: 8109\n",
      "Total unique developers: 634\n"
     ]
    }
   ],
   "source": [
    "def main():\n",
    "    all_rows = []\n",
    "    \n",
    "    # Process all Mozilla projects\n",
    "    for project in os.listdir(MOZILLA_PATH):\n",
    "        project_path = os.path.join(MOZILLA_PATH, project)\n",
    "        if os.path.isdir(project_path):\n",
    "            all_rows.extend(process_project_folder(project_path))\n",
    "    \n",
    "    # Process all Eclipse projects\n",
    "    for project in os.listdir(ECLIPSE_PATH):\n",
    "        project_path = os.path.join(ECLIPSE_PATH, project)\n",
    "        if os.path.isdir(project_path):\n",
    "            all_rows.extend(process_project_folder(project_path))\n",
    "    \n",
    "    # Write to CSV\n",
    "    if all_rows:\n",
    "        fieldnames = ['bug_id', 'description', 'developer', 'severity', 'priority', 'project']\n",
    "        with open(OUTPUT_CSV, 'w', newline='', encoding='utf-8') as csvfile:\n",
    "            writer = csv.DictWriter(csvfile, fieldnames=fieldnames)\n",
    "            writer.writeheader()\n",
    "            writer.writerows(all_rows)\n",
    "        \n",
    "        print(f\"CSV file generated: {OUTPUT_CSV}\")\n",
    "        print(f\"Total bug reports processed: {len(all_rows)}\")\n",
    "        print(f\"Total unique developers: {len(developer_mapping)}\")\n",
    "    else:\n",
    "        print(\"No valid data to write.\")\n",
    "\n",
    "if __name__ == '__main__':\n",
    "    main()"
   ]
  },
  {
   "cell_type": "code",
   "execution_count": 30,
   "id": "8ffe21e5",
   "metadata": {},
   "outputs": [
    {
     "data": {
      "image/png": "[encoded data removed]",
      "text/plain": [
       "<Figure size 800x500 with 2 Axes>"
      ]
     },
     "metadata": {},
     "output_type": "display_data"
    }
   ],
   "source": [
    "import pandas as pd\n",
    "import matplotlib.pyplot as plt\n",
    "import seaborn as sns\n",
    "\n",
    "# Sample Bug Report Dataset\n",
    "csv_file = \"bug_reports_anonymized.csv\"\n",
    "\n",
    "df = pd.read_csv(csv_file)\n",
    "\n",
    "### Count occurrences of (Severity, Priority) pairs\n",
    "severity_priority_counts = df.groupby([\"severity\", \"priority\"]).size().unstack(fill_value=0)\n",
    "\n",
    "### Plot Heatmap of Severity vs. Priority\n",
    "plt.figure(figsize=(8, 5))\n",
    "sns.heatmap(severity_priority_counts, annot=True, cmap=\"Blues\", fmt=\"d\", linewidths=0.5)\n",
    "plt.title(\"Bug Report Distribution: Severity vs. Priority\")\n",
    "plt.xlabel(\"Priority\")\n",
    "plt.ylabel(\"Severity\")\n",
    "plt.show()"
   ]
  },
  {
   "cell_type": "code",
   "execution_count": 31,
   "id": "4f9542d9",
   "metadata": {},
   "outputs": [
    {
     "name": "stdout",
     "output_type": "stream",
     "text": [
      "              Severity_Num  Priority_Num\n",
      "Severity_Num      1.000000      0.277785\n",
      "Priority_Num      0.277785      1.000000\n"
     ]
    }
   ],
   "source": [
    "severity_mapping = {\"blocker\": 0, \"critical\": 1, \"major\": 2, \"normal\": 3, \"minor\": 4, \"trivial\": 5}\n",
    "priority_mapping = {\"P1\": 0, \"P2\": 1, \"P3\": 2, \"P4\": 3, \"P5\": 4}\n",
    "\n",
    "df[\"Severity_Num\"] = df[\"severity\"].map(severity_mapping)\n",
    "df[\"Priority_Num\"] = df[\"priority\"].map(priority_mapping)\n",
    "\n",
    "correlation = df[[\"Severity_Num\", \"Priority_Num\"]].corr()\n",
    "print(correlation)  # Check correlation coefficient\n"
   ]
  },
  {
   "cell_type": "code",
   "execution_count": 32,
   "id": "e5ae58e6",
   "metadata": {},
   "outputs": [
    {
     "name": "stdout",
     "output_type": "stream",
     "text": [
      "Chi-Square Test p-value: 1.9759015332848124e-189\n",
      "Severity and Priority are statistically related.\n"
     ]
    }
   ],
   "source": [
    "from scipy.stats import chi2_contingency\n",
    "\n",
    "chi2, p, _, _ = chi2_contingency(severity_priority_counts)\n",
    "print(f\"Chi-Square Test p-value: {p}\")\n",
    "\n",
    "if p < 0.05:\n",
    "    print(\"Severity and Priority are statistically related.\")\n",
    "else:\n",
    "    print(\"No significant relationship between Severity and Priority.\")\n"
   ]
  },
  {
   "cell_type": "code",
   "execution_count": 34,
   "id": "b2c484bf",
   "metadata": {},
   "outputs": [
    {
     "name": "stdout",
     "output_type": "stream",
     "text": [
      "{'blocker': 0, 'critical': 1, 'major': 2, 'normal': 3, 'minor': 4, 'trivial': 5}\n"
     ]
    }
   ],
   "source": [
    "# Group by 'Severity' and calculate the most frequent 'Priority' for each severity\n",
    "severity_priority_mapping = df.groupby(\"severity\")[\"priority\"].agg(lambda x: x.mode()[0]).to_dict()\n",
    "print(severity_mapping)"
   ]
  },
  {
   "cell_type": "code",
   "execution_count": 35,
   "id": "f168c362",
   "metadata": {},
   "outputs": [],
   "source": [
    "# Map missing 'Priority' values based on the Severity-Priority relationship\n",
    "df[\"Priority_Imputed\"] = df.apply(\n",
    "    lambda row: severity_priority_mapping.get(row[\"severity\"]) if pd.isna(row[\"priority\"]) else row[\"priority\"],\n",
    "    axis=1\n",
    ")\n"
   ]
  },
  {
   "cell_type": "code",
   "execution_count": 37,
   "id": "24ea9735",
   "metadata": {},
   "outputs": [
    {
     "data": {
      "text/html": [
       "<div>\n",
       "<style scoped>\n",
       "    .dataframe tbody tr th:only-of-type {\n",
       "        vertical-align: middle;\n",
       "    }\n",
       "\n",
       "    .dataframe tbody tr th {\n",
       "        vertical-align: top;\n",
       "    }\n",
       "\n",
       "    .dataframe thead th {\n",
       "        text-align: right;\n",
       "    }\n",
       "</style>\n",
       "<table border=\"1\" class=\"dataframe\">\n",
       "  <thead>\n",
       "    <tr style=\"text-align: right;\">\n",
       "      <th></th>\n",
       "      <th>bug_id</th>\n",
       "      <th>description</th>\n",
       "      <th>developer</th>\n",
       "      <th>severity</th>\n",
       "      <th>priority</th>\n",
       "      <th>project</th>\n",
       "      <th>Severity_Num</th>\n",
       "      <th>Priority_Num</th>\n",
       "      <th>Priority_Imputed</th>\n",
       "    </tr>\n",
       "  </thead>\n",
       "  <tbody>\n",
       "    <tr>\n",
       "      <th>0</th>\n",
       "      <td>323798</td>\n",
       "      <td>Keyword URL Needs to be localized</td>\n",
       "      <td>developer_001</td>\n",
       "      <td>normal</td>\n",
       "      <td>P1</td>\n",
       "      <td>Firefox</td>\n",
       "      <td>3</td>\n",
       "      <td>0</td>\n",
       "      <td>P1</td>\n",
       "    </tr>\n",
       "    <tr>\n",
       "      <th>1</th>\n",
       "      <td>322369</td>\n",
       "      <td>History importer</td>\n",
       "      <td>developer_002</td>\n",
       "      <td>normal</td>\n",
       "      <td>P1</td>\n",
       "      <td>Firefox</td>\n",
       "      <td>3</td>\n",
       "      <td>0</td>\n",
       "      <td>P1</td>\n",
       "    </tr>\n",
       "    <tr>\n",
       "      <th>2</th>\n",
       "      <td>324237</td>\n",
       "      <td>Close button on tabs show empty tooltip</td>\n",
       "      <td>developer_003</td>\n",
       "      <td>minor</td>\n",
       "      <td>P3</td>\n",
       "      <td>Firefox</td>\n",
       "      <td>4</td>\n",
       "      <td>2</td>\n",
       "      <td>P3</td>\n",
       "    </tr>\n",
       "    <tr>\n",
       "      <th>3</th>\n",
       "      <td>323472</td>\n",
       "      <td>Crash when Places imports FF1.5 bookmarks</td>\n",
       "      <td>developer_002</td>\n",
       "      <td>critical</td>\n",
       "      <td>P1</td>\n",
       "      <td>Firefox</td>\n",
       "      <td>1</td>\n",
       "      <td>0</td>\n",
       "      <td>P1</td>\n",
       "    </tr>\n",
       "    <tr>\n",
       "      <th>4</th>\n",
       "      <td>322290</td>\n",
       "      <td>Queries in the bookmark toolbar/menu don't act...</td>\n",
       "      <td>developer_004</td>\n",
       "      <td>major</td>\n",
       "      <td>P2</td>\n",
       "      <td>Firefox</td>\n",
       "      <td>2</td>\n",
       "      <td>1</td>\n",
       "      <td>P2</td>\n",
       "    </tr>\n",
       "  </tbody>\n",
       "</table>\n",
       "</div>"
      ],
      "text/plain": [
       "   bug_id                                        description      developer  \\\n",
       "0  323798                  Keyword URL Needs to be localized  developer_001   \n",
       "1  322369                                   History importer  developer_002   \n",
       "2  324237            Close button on tabs show empty tooltip  developer_003   \n",
       "3  323472          Crash when Places imports FF1.5 bookmarks  developer_002   \n",
       "4  322290  Queries in the bookmark toolbar/menu don't act...  developer_004   \n",
       "\n",
       "   severity priority  project  Severity_Num  Priority_Num Priority_Imputed  \n",
       "0    normal       P1  Firefox             3             0               P1  \n",
       "1    normal       P1  Firefox             3             0               P1  \n",
       "2     minor       P3  Firefox             4             2               P3  \n",
       "3  critical       P1  Firefox             1             0               P1  \n",
       "4     major       P2  Firefox             2             1               P2  "
      ]
     },
     "execution_count": 37,
     "metadata": {},
     "output_type": "execute_result"
    }
   ],
   "source": [
    "df.head()"
   ]
  },
  {
   "cell_type": "code",
   "execution_count": 38,
   "id": "81c5971d",
   "metadata": {},
   "outputs": [
    {
     "name": "stdout",
     "output_type": "stream",
     "text": [
      "Imputed dataset saved as: imputed_bug_reports.csv\n"
     ]
    }
   ],
   "source": [
    "# Save the updated dataset to a new CSV file\n",
    "output_file = \"imputed_bug_reports.csv\"\n",
    "df.to_csv(output_file, index=False)\n",
    "\n",
    "print(f\"Imputed dataset saved as: {output_file}\")"
   ]
  }
 ],
 "metadata": {
  "kernelspec": {
   "display_name": "Python 3 (ipykernel)",
   "language": "python",
   "name": "python3"
  },
  "language_info": {
   "codemirror_mode": {
    "name": "ipython",
    "version": 3
   },
   "file_extension": ".py",
   "mimetype": "text/x-python",
   "name": "python",
   "nbconvert_exporter": "python",
   "pygments_lexer": "ipython3",
   "version": "3.11.11"
  }
 },
 "nbformat": 4,
 "nbformat_minor": 5
}
